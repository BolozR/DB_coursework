{
  "nbformat": 4,
  "nbformat_minor": 0,
  "metadata": {
    "colab": {
      "name": "dpa.ipynb",
      "provenance": [],
      "mount_file_id": "1JpkPpwtdEMmW-iUcYXkadnpN2ikBwYCh",
      "authorship_tag": "ABX9TyPCPtv+EhYJ4CMaQdPbsUxh",
      "include_colab_link": true
    },
    "kernelspec": {
      "display_name": "Python 3",
      "name": "python3"
    },
    "language_info": {
      "name": "python"
    },
    "accelerator": "GPU"
  },
  "cells": [
    {
      "cell_type": "markdown",
      "metadata": {
        "id": "view-in-github",
        "colab_type": "text"
      },
      "source": [
        "<a href=\"https://colab.research.google.com/github/BolozR/DB_coursework/blob/master/dpa.ipynb\" target=\"_parent\"><img src=\"https://colab.research.google.com/assets/colab-badge.svg\" alt=\"Open In Colab\"/></a>"
      ]
    },
    {
      "cell_type": "code",
      "metadata": {
        "id": "pPHkvQ2-DNsU"
      },
      "source": [
        "import pandas as pd\n",
        "import matplotlib.pyplot as plt\n",
        "import random\n",
        "import numpy as np\n",
        "import pywt\n",
        "\n",
        "from sklearn.model_selection import train_test_split\n",
        "from sklearn.preprocessing import StandardScaler\n",
        "\n",
        "import torch\n",
        "\n",
        "from google.colab import output \n",
        "import psutil as ps\n",
        "\n",
        "random.seed(0)\n",
        "np.random.seed(0)\n",
        "torch.manual_seed(0)\n",
        "torch.cuda.manual_seed(0)\n",
        "torch.backends.cudnn.deterministic = True"
      ],
      "execution_count": null,
      "outputs": []
    },
    {
      "cell_type": "code",
      "metadata": {
        "colab": {
          "base_uri": "https://localhost:8080/"
        },
        "id": "C1jyJi03fCH4",
        "outputId": "49ca8278-2355-4426-e4af-0b43cdaa2e3a"
      },
      "source": [
        "!ls"
      ],
      "execution_count": null,
      "outputs": [
        {
          "output_type": "stream",
          "name": "stdout",
          "text": [
            "100000\t25000  50000  75000  drive  sample_data\n"
          ]
        }
      ]
    },
    {
      "cell_type": "code",
      "metadata": {
        "id": "aYoOAN4BLtY_"
      },
      "source": [
        "!ls -la /content/drive/MyDrive/dpav2/"
      ],
      "execution_count": null,
      "outputs": []
    },
    {
      "cell_type": "code",
      "metadata": {
        "colab": {
          "base_uri": "https://localhost:8080/"
        },
        "id": "9rWPKM-cPxXz",
        "outputId": "834f3525-dd87-45c5-e690-35d1843ab86e"
      },
      "source": [
        "%%time\n",
        "%%bash\n",
        "for number in {25000..100000..25000}\n",
        "do\n",
        "tar -xzf /content/drive/MyDrive/dpav2/trace/$number.tar.gz\n",
        "done"
      ],
      "execution_count": null,
      "outputs": [
        {
          "output_type": "stream",
          "name": "stdout",
          "text": [
            "CPU times: user 162 ms, sys: 47.6 ms, total: 210 ms\n",
            "Wall time: 37.8 s\n"
          ]
        }
      ]
    },
    {
      "cell_type": "code",
      "metadata": {
        "id": "PcgJelq5CyPm"
      },
      "source": [
        "path = '/content/drive/MyDrive/dpav2/'\n",
        "index_name = 'DPA_contest2_template_base_index_file'\n",
        "trace_name = 'DPA_contest2_template_base_diff_vcc_a128_2009_12_23/'\n",
        "trace_count = 100_000"
      ],
      "execution_count": null,
      "outputs": []
    },
    {
      "cell_type": "code",
      "metadata": {
        "colab": {
          "base_uri": "https://localhost:8080/"
        },
        "id": "Tsbw3zRVDEPG",
        "outputId": "203ce80c-ebf5-4f75-e292-27f084de75b5"
      },
      "source": [
        "%%time\n",
        "index_file = pd.read_csv(path+index_name, sep=' ', header=None, names=['key', 'plaintext', '??', 'filename'], nrows=trace_count)"
      ],
      "execution_count": null,
      "outputs": [
        {
          "output_type": "stream",
          "name": "stdout",
          "text": [
            "CPU times: user 501 ms, sys: 136 ms, total: 637 ms\n",
            "Wall time: 1.8 s\n"
          ]
        }
      ]
    },
    {
      "cell_type": "code",
      "metadata": {
        "colab": {
          "base_uri": "https://localhost:8080/"
        },
        "id": "n4qn1RHgo_2T",
        "outputId": "f37306c8-5202-4653-af13-b2bcd77caff4"
      },
      "source": [
        "%%time\n",
        "key_bits = pd.read_csv(path+'key_bits', index_col=0, nrows=trace_count).to_numpy()"
      ],
      "execution_count": null,
      "outputs": [
        {
          "output_type": "stream",
          "name": "stdout",
          "text": [
            "CPU times: user 1.89 s, sys: 206 ms, total: 2.09 s\n",
            "Wall time: 4.28 s\n"
          ]
        }
      ]
    },
    {
      "cell_type": "code",
      "metadata": {
        "colab": {
          "base_uri": "https://localhost:8080/"
        },
        "id": "X24VsnPkDWD8",
        "outputId": "18aea746-7a3f-442d-c1bf-d47792e5b9ae"
      },
      "source": [
        "!free -h"
      ],
      "execution_count": null,
      "outputs": [
        {
          "output_type": "stream",
          "name": "stdout",
          "text": [
            "              total        used        free      shared  buff/cache   available\n",
            "Mem:            12G        7.8G        234M        1.2M        4.6G        6.4G\n",
            "Swap:            0B          0B          0B\n"
          ]
        }
      ]
    },
    {
      "cell_type": "code",
      "metadata": {
        "colab": {
          "base_uri": "https://localhost:8080/"
        },
        "id": "YOAzwQuWedV7",
        "outputId": "21ef8f6b-07ac-4398-c61a-af13f9beb9d6"
      },
      "source": [
        "%%time\n",
        "Trace = np.empty(shape=(trace_count, 3253), dtype=np.float32)\n",
        "for i in range(25_000, trace_count + 25_000, 25_000):\n",
        "  for j in range(i-25_000, i):\n",
        "    Trace[j] = pd.read_csv('./{}/{}'.format(i, index_file.filename[j]), delimiter='\\n', skiprows=24, header=None)[0].to_numpy()"
      ],
      "execution_count": null,
      "outputs": [
        {
          "output_type": "stream",
          "name": "stdout",
          "text": [
            "CPU times: user 3min 6s, sys: 5.82 s, total: 3min 12s\n",
            "Wall time: 3min 11s\n"
          ]
        }
      ]
    },
    {
      "cell_type": "code",
      "metadata": {
        "colab": {
          "base_uri": "https://localhost:8080/"
        },
        "id": "FN1wBy0iOpMq",
        "outputId": "24d4157f-520b-4c3a-b8ac-94aaae5edc37"
      },
      "source": [
        "%%time\n",
        "for i in range(0, trace_count, 100_000):\n",
        "  scaler = StandardScaler()\n",
        "  Trace[i:i+100_000] = scaler.fit_transform(Trace[i:i+100_000])\n",
        "  del scaler"
      ],
      "execution_count": null,
      "outputs": [
        {
          "output_type": "stream",
          "name": "stdout",
          "text": [
            "CPU times: user 6.7 s, sys: 1.17 s, total: 7.88 s\n",
            "Wall time: 7.88 s\n"
          ]
        }
      ]
    },
    {
      "cell_type": "code",
      "metadata": {
        "colab": {
          "base_uri": "https://localhost:8080/"
        },
        "id": "YLiFdOF-G-pj",
        "outputId": "f823fa5c-ea8e-4b0b-d720-56065def4aa7"
      },
      "source": [
        "%%time\n",
        "waved = np.empty((Trace.shape[0], 817), dtype=np.float32)\n",
        "for i in range(Trace.shape[0]):\n",
        "  waved[i] = pywt.wavedec(Trace[i], 'sym3', level=2)[0]\n",
        "del Trace"
      ],
      "execution_count": null,
      "outputs": [
        {
          "output_type": "stream",
          "name": "stdout",
          "text": [
            "CPU times: user 9.32 s, sys: 39.7 ms, total: 9.36 s\n",
            "Wall time: 9.34 s\n"
          ]
        }
      ]
    },
    {
      "cell_type": "code",
      "metadata": {
        "colab": {
          "base_uri": "https://localhost:8080/",
          "height": 298
        },
        "id": "kev6W7zX1DXc",
        "outputId": "74a63216-9c81-4067-f6bb-fe7e19a415f2"
      },
      "source": [
        "conv1 = torch.nn.Conv1d(in_channels=1, out_channels=1, kernel_size=6, stride=2)\n",
        "conv2 = torch.nn.Conv1d(in_channels=1, out_channels=1, kernel_size=6, stride=2)\n",
        "avg = torch.nn.AvgPool1d(kernel_size=4, stride=3)\n",
        "max = torch.nn.MaxPool1d(kernel_size=4, stride=2)\n",
        "c = max(conv2(avg(conv1(torch.tensor(Trace[0]).unsqueeze(0).unsqueeze(0))))).squeeze(0).squeeze(0)\n",
        "print(c.shape)\n",
        "plt.plot(range(len(c)), c.detach().numpy())"
      ],
      "execution_count": null,
      "outputs": [
        {
          "output_type": "stream",
          "name": "stdout",
          "text": [
            "torch.Size([133])\n"
          ]
        },
        {
          "output_type": "execute_result",
          "data": {
            "text/plain": [
              "[<matplotlib.lines.Line2D at 0x7fe535a9e490>]"
            ]
          },
          "metadata": {},
          "execution_count": 76
        },
        {
          "output_type": "display_data",
          "data": {
            "image/png": "[encoded data removed]",
            "text/plain": [
              "<Figure size 432x288 with 1 Axes>"
            ]
          },
          "metadata": {
            "needs_background": "light"
          }
        }
      ]
    },
    {
      "cell_type": "code",
      "metadata": {
        "id": "JKcESNLF2Igc"
      },
      "source": [
        "Trace_train_s, Trace_test_s, key_train_s, key_test_s = train_test_split(Trace, key_bits[:,0], test_size=0.20, random_state=0, stratify=key_bits[:,0])"
      ],
      "execution_count": null,
      "outputs": []
    },
    {
      "cell_type": "code",
      "metadata": {
        "colab": {
          "base_uri": "https://localhost:8080/"
        },
        "id": "J4FeL6StsDqP",
        "outputId": "69f4ed9d-e63b-4011-ba7b-d1a3392bf398"
      },
      "source": [
        "key_train_s.mean()"
      ],
      "execution_count": null,
      "outputs": [
        {
          "output_type": "execute_result",
          "data": {
            "text/plain": [
              "0.499475"
            ]
          },
          "metadata": {},
          "execution_count": 11
        }
      ]
    },
    {
      "cell_type": "code",
      "metadata": {
        "colab": {
          "base_uri": "https://localhost:8080/"
        },
        "id": "2xPlnruhsHV6",
        "outputId": "6d7e29b4-906b-4698-ab45-a67e29b17ddb"
      },
      "source": [
        "key_test_s.mean()"
      ],
      "execution_count": null,
      "outputs": [
        {
          "output_type": "execute_result",
          "data": {
            "text/plain": [
              "0.49945"
            ]
          },
          "metadata": {},
          "execution_count": 12
        }
      ]
    },
    {
      "cell_type": "code",
      "metadata": {
        "colab": {
          "base_uri": "https://localhost:8080/"
        },
        "id": "5D9_eT-tkO9O",
        "outputId": "544833fd-b423-473c-a9d7-663181551225"
      },
      "source": [
        "class DpaNet(torch.nn.Module):\n",
        "    def __init__(self):\n",
        "        super(DpaNet, self).__init__()\n",
        "        \n",
        "        self.layers = torch.nn.Sequential(\n",
        "        torch.nn.Linear(3253, 1627),\n",
        "        torch.nn.SELU(),\n",
        "        torch.nn.Linear(1627, 814),\n",
        "        torch.nn.SELU(),\n",
        "        torch.nn.Linear(814, 407),\n",
        "        torch.nn.SELU(),\n",
        "        torch.nn.Linear(407, 204),\n",
        "        torch.nn.SELU(),\n",
        "        torch.nn.Linear(204, 128),\n",
        "        torch.nn.SELU(),\n",
        "        torch.nn.Linear(128, 1),\n",
        "        torch.nn.Sigmoid()\n",
        "      )\n",
        "        '''\n",
        "        self.conv_layers = torch.nn.Sequential(\n",
        "        torch.nn.Conv1d(in_channels=1, out_channels=16, kernel_size=6, stride=2),\n",
        "        torch.nn.SELU(),\n",
        "        torch.nn.AvgPool1d(kernel_size=4, stride=3),\n",
        "        torch.nn.Conv1d(in_channels=16, out_channels=32, kernel_size=6, stride=2),\n",
        "        torch.nn.SELU(),\n",
        "        torch.nn.MaxPool1d(kernel_size=4, stride=2),\n",
        "        torch.nn.Conv1d(in_channels=32, out_channels=64, kernel_size=6, stride=2),\n",
        "        torch.nn.SELU(),\n",
        "        torch.nn.MaxPool1d(kernel_size=4, stride=2),\n",
        "        torch.nn.Conv1d(in_channels=64, out_channels=128, kernel_size=6, stride=2),\n",
        "        torch.nn.SELU(),\n",
        "        torch.nn.MaxPool1d(kernel_size=4, stride=2)\n",
        "      )\n",
        "        \n",
        "        self.conv_layers = torch.nn.Sequential(\n",
        "        torch.nn.Conv1d(in_channels=1, out_channels=16, kernel_size=12, stride=4),\n",
        "        torch.nn.SELU(),\n",
        "        torch.nn.AvgPool1d(kernel_size=4, stride=3),\n",
        "        torch.nn.Conv1d(in_channels=16, out_channels=32, kernel_size=12, stride=4),\n",
        "        torch.nn.SELU(),\n",
        "        torch.nn.MaxPool1d(kernel_size=4, stride=2),\n",
        "        torch.nn.Conv1d(in_channels=32, out_channels=128, kernel_size=12, stride=4),\n",
        "        torch.nn.SELU(),\n",
        "        torch.nn.MaxPool1d(kernel_size=4, stride=2),\n",
        "        torch.nn.Flatten()\n",
        "      )\n",
        "        \n",
        "        self.conv_layers = torch.nn.Sequential(\n",
        "            torch.nn.Conv1d(in_channels=1, out_channels=1, kernel_size=6, stride=2),\n",
        "            torch.nn.SELU(),\n",
        "            torch.nn.AvgPool1d(kernel_size=4, stride=3),\n",
        "            torch.nn.Conv1d(in_channels=1, out_channels=1, kernel_size=6, stride=2),\n",
        "            torch.nn.SELU(),\n",
        "            torch.nn.MaxPool1d(kernel_size=4, stride=2)\n",
        "        )\n",
        "\n",
        "        \n",
        "        self.fc1   = torch.nn.Linear(3253, 500)\n",
        "        self.fc2   = torch.nn.Linear(500, 500)\n",
        "        self.fc3   = torch.nn.Linear(500, 250)\n",
        "        self.fc4   = torch.nn.Linear(250, 250)\n",
        "        self.fc5   = torch.nn.Linear(250, 50)\n",
        "        self.fc6   = torch.nn.Linear(50, 1)\n",
        "        '''\n",
        "\n",
        "        self.hidden = torch.nn.Linear(128, 64)\n",
        "        self.out = torch.nn.Linear(64, 1)\n",
        "        self.actSigm  = torch.nn.Sigmoid()\n",
        "        self.actSELU =  torch.nn.SELU()\n",
        "        '''\n",
        "        self.fc1   = torch.nn.Linear(817, 300)\n",
        "        self.fc2   = torch.nn.Linear(300, 200)\n",
        "        self.fc3   = torch.nn.Linear(200, 128)\n",
        "\n",
        "        self.actSigm  = torch.nn.Sigmoid()\n",
        "        self.actLRelu =  torch.nn.LeakyReLU()\n",
        "        self.actSM =  torch.nn.Softmax()\n",
        "        '''\n",
        "    \n",
        "    def forward(self, x):\n",
        "        \n",
        "        #x = self.conv_layers(x)\n",
        "        x = self.layers(x)\n",
        "        '''\n",
        "        x = x.unsqueeze(1)\n",
        "        x = self.conv_layers(x)\n",
        "        x = self.hidden(x)\n",
        "        x = self.actSELU(x)\n",
        "        x = self.out(x)\n",
        "        #x = self.actSigm(x)\n",
        "        '''\n",
        "        return x\n",
        "\n",
        "device = torch.device(\"cuda:0\" if torch.cuda.is_available() else \"cpu\")\n",
        "print(device)\n",
        "dpa_net = DpaNet()\n",
        "dpa_net = dpa_net.to(device)\n",
        "loss = torch.nn.BCELoss()\n",
        "#loss = torch.nn.BCEWithLogitsLoss()\n",
        "#loss = torch.nn.MultiLabelMarginLoss()\n",
        "#loss = torch.nn.CrossEntropyLoss()\n",
        "optimizer = torch.optim.Adam(dpa_net.parameters(), weight_decay=1e-5)\n",
        "#optimizer = torch.optim.RMSprop(dpa_net.parameters(), lr=0.001)\n",
        "#optimizer = torch.optim.SGD(dpa_net.parameters(), lr=0.0001, momentum=0.9)"
      ],
      "execution_count": null,
      "outputs": [
        {
          "output_type": "stream",
          "name": "stdout",
          "text": [
            "cuda:0\n"
          ]
        }
      ]
    },
    {
      "cell_type": "code",
      "metadata": {
        "id": "_pNsAn7-02xU",
        "colab": {
          "base_uri": "https://localhost:8080/"
        },
        "outputId": "6b55a5e0-048e-46cd-eb90-5330364ddcf6"
      },
      "source": [
        "part_size = Trace_train_s.shape[0]//2\n",
        "Trace_train = torch.from_numpy(Trace_train_s[:part_size]).float().to(device)\n",
        "key_train = torch.from_numpy(key_train_s[:part_size]).float().reshape(-1, 128)[:, -1].unsqueeze(1).to(device)\n",
        "print(part_size)"
      ],
      "execution_count": null,
      "outputs": [
        {
          "output_type": "stream",
          "name": "stdout",
          "text": [
            "90000\n"
          ]
        }
      ]
    },
    {
      "cell_type": "code",
      "metadata": {
        "id": "paNDptCk5uS3"
      },
      "source": [
        "Trace_train = Trace_train.to(\"cpu\")"
      ],
      "execution_count": null,
      "outputs": []
    },
    {
      "cell_type": "code",
      "metadata": {
        "id": "PW568S7w6dg6"
      },
      "source": [
        "torch.cuda.empty_cache()"
      ],
      "execution_count": null,
      "outputs": []
    },
    {
      "cell_type": "code",
      "metadata": {
        "id": "CWw5a_43oTTH"
      },
      "source": [
        "Trace_train = torch.from_numpy(Trace_train_s).float().to(device)\n",
        "key_train = torch.from_numpy(key_train_s).float().reshape(-1, 128)[:, -1].unsqueeze(1).to(device)\n",
        "Trace_test = torch.from_numpy(Trace_test_s).float().to(device)\n",
        "key_test = torch.from_numpy(key_test_s).float().reshape(-1, 128)[:, -1].unsqueeze(1).to(device)"
      ],
      "execution_count": null,
      "outputs": []
    },
    {
      "cell_type": "code",
      "metadata": {
        "id": "gMAStX749uww"
      },
      "source": [
        "key_train = key_train.float()\n",
        "key_test = key_test.float()"
      ],
      "execution_count": null,
      "outputs": []
    },
    {
      "cell_type": "code",
      "metadata": {
        "id": "0mh-TRksBRsH"
      },
      "source": [
        "Trace_train = torch.from_numpy(Trace_train_s).float().to(device)\n",
        "key_train = torch.from_numpy(key_train_s).float().reshape(-1, 1).to(device)\n",
        "Trace_test = torch.from_numpy(Trace_test_s).float().to(device)\n",
        "key_test = torch.from_numpy(key_test_s).float().reshape(-1, 1).to(device)"
      ],
      "execution_count": null,
      "outputs": []
    },
    {
      "cell_type": "code",
      "metadata": {
        "colab": {
          "base_uri": "https://localhost:8080/"
        },
        "id": "591Lh0nwMDYe",
        "outputId": "0ed10c45-d5c5-48a1-c525-135e95ab48db"
      },
      "source": [
        "batch_size = 1_000\n",
        "dpa_net.train()\n",
        "losses = []\n",
        "mean_accs_train = []\n",
        "mean_accs_test = []\n",
        "for epoch in range(2000):\n",
        "    order = np.random.permutation(len(Trace_train))\n",
        "    for start_index in range(0, len(Trace_train), batch_size):\n",
        "        optimizer.zero_grad()\n",
        "        \n",
        "        batch_indexes = order[start_index:start_index+batch_size]\n",
        "        \n",
        "        X_batch = Trace_train[batch_indexes]#.to(device)\n",
        "        y_batch = key_train[batch_indexes]#.to(device)\n",
        "        \n",
        "        preds = dpa_net.forward(X_batch) \n",
        "\n",
        "        loss_value = loss(preds, y_batch)\n",
        "        loss_value.backward()\n",
        "        \n",
        "        optimizer.step()\n",
        "        \n",
        "    if epoch % 20 == 0:\n",
        "        dpa_net.eval()\n",
        "        output.clear()\n",
        "        \n",
        "        print('epoch', epoch)\n",
        "        lv = loss_value.data.cpu()\n",
        "        print('loss', lv)\n",
        "        losses.append(lv)\n",
        "        \n",
        "        test_preds = dpa_net.forward(Trace_test) \n",
        "        mean_acc = (test_preds.round() == key_test).float().mean()\n",
        "        mean_accs_test.append(mean_acc.cpu())\n",
        "        print(\"mean_acc test\", mean_acc)\n",
        "\n",
        "        train_preds = dpa_net.forward(X_batch)\n",
        "        mean_acc = (train_preds.round() == y_batch).float().mean()\n",
        "        mean_accs_train.append(mean_acc.cpu())\n",
        "        print(\"mean_acc train\", mean_acc)\n",
        "\n",
        "        torch.cuda.empty_cache()\n",
        "        dpa_net.train()\n",
        "        !nvidia-smi\n",
        "\n",
        "dpa_net.eval()"
      ],
      "execution_count": null,
      "outputs": [
        {
          "output_type": "stream",
          "name": "stdout",
          "text": [
            "epoch 1980\n",
            "loss tensor(0.0168)\n",
            "mean_acc test tensor(0.5051, device='cuda:0')\n",
            "mean_acc train tensor(1., device='cuda:0')\n",
            "Fri Oct 15 14:46:14 2021       \n",
            "+-----------------------------------------------------------------------------+\n",
            "| NVIDIA-SMI 470.74       Driver Version: 460.32.03    CUDA Version: 11.2     |\n",
            "|-------------------------------+----------------------+----------------------+\n",
            "| GPU  Name        Persistence-M| Bus-Id        Disp.A | Volatile Uncorr. ECC |\n",
            "| Fan  Temp  Perf  Pwr:Usage/Cap|         Memory-Usage | GPU-Util  Compute M. |\n",
            "|                               |                      |               MIG M. |\n",
            "|===============================+======================+======================|\n",
            "|   0  Tesla K80           Off  | 00000000:00:04.0 Off |                    0 |\n",
            "| N/A   66C    P0   125W / 149W |   3897MiB / 11441MiB |     98%      Default |\n",
            "|                               |                      |                  N/A |\n",
            "+-------------------------------+----------------------+----------------------+\n",
            "                                                                               \n",
            "+-----------------------------------------------------------------------------+\n",
            "| Processes:                                                                  |\n",
            "|  GPU   GI   CI        PID   Type   Process name                  GPU Memory |\n",
            "|        ID   ID                                                   Usage      |\n",
            "|=============================================================================|\n",
            "|  No running processes found                                                 |\n",
            "+-----------------------------------------------------------------------------+\n"
          ]
        },
        {
          "output_type": "execute_result",
          "data": {
            "text/plain": [
              "DpaNet(\n",
              "  (layers): Sequential(\n",
              "    (0): Linear(in_features=3253, out_features=1627, bias=True)\n",
              "    (1): SELU()\n",
              "    (2): Linear(in_features=1627, out_features=814, bias=True)\n",
              "    (3): SELU()\n",
              "    (4): Linear(in_features=814, out_features=407, bias=True)\n",
              "    (5): SELU()\n",
              "    (6): Linear(in_features=407, out_features=204, bias=True)\n",
              "    (7): SELU()\n",
              "    (8): Linear(in_features=204, out_features=128, bias=True)\n",
              "    (9): SELU()\n",
              "    (10): Linear(in_features=128, out_features=1, bias=True)\n",
              "    (11): Sigmoid()\n",
              "  )\n",
              "  (hidden): Linear(in_features=128, out_features=64, bias=True)\n",
              "  (out): Linear(in_features=64, out_features=1, bias=True)\n",
              "  (actSigm): Sigmoid()\n",
              "  (actSELU): SELU()\n",
              ")"
            ]
          },
          "metadata": {},
          "execution_count": 31
        }
      ]
    },
    {
      "cell_type": "code",
      "metadata": {
        "id": "4iJnjxMl7W-U"
      },
      "source": [
        "torch.save(dpa_net.state_dict(), path+'checkpoint.pth')"
      ],
      "execution_count": null,
      "outputs": []
    },
    {
      "cell_type": "code",
      "metadata": {
        "colab": {
          "base_uri": "https://localhost:8080/"
        },
        "id": "HLkL9CJI_SlH",
        "outputId": "694cbe3e-c6d0-4dd2-bec5-80b100831b50"
      },
      "source": [
        "checkpoint = torch.load(path+'checkpoint.pth')\n",
        "dpa_net.load_state_dict(checkpoint)"
      ],
      "execution_count": null,
      "outputs": [
        {
          "output_type": "execute_result",
          "data": {
            "text/plain": [
              "<All keys matched successfully>"
            ]
          },
          "metadata": {},
          "execution_count": 27
        }
      ]
    },
    {
      "cell_type": "code",
      "metadata": {
        "colab": {
          "base_uri": "https://localhost:8080/"
        },
        "id": "M9XsPE50AJ_V",
        "outputId": "e73a9f57-6735-4db4-aabc-318fad58dc07"
      },
      "source": [
        "checkpoint.keys()"
      ],
      "execution_count": null,
      "outputs": [
        {
          "output_type": "execute_result",
          "data": {
            "text/plain": [
              "odict_keys(['layers.0.weight', 'layers.0.bias', 'layers.2.weight', 'layers.2.bias', 'layers.4.weight', 'layers.4.bias', 'layers.6.weight', 'layers.6.bias', 'layers.8.weight', 'layers.8.bias', 'layers.10.weight', 'layers.10.bias', 'hidden.weight', 'hidden.bias', 'out.weight', 'out.bias'])"
            ]
          },
          "metadata": {},
          "execution_count": 25
        }
      ]
    },
    {
      "cell_type": "code",
      "metadata": {
        "colab": {
          "base_uri": "https://localhost:8080/"
        },
        "id": "Ibv1bfTGNaVH",
        "outputId": "12c67d3a-711e-412c-bc86-1ee1da8f5651"
      },
      "source": [
        "!nvidia-smi"
      ],
      "execution_count": null,
      "outputs": [
        {
          "output_type": "stream",
          "name": "stdout",
          "text": [
            "Wed Oct 13 10:29:25 2021       \n",
            "+-----------------------------------------------------------------------------+\n",
            "| NVIDIA-SMI 470.74       Driver Version: 460.32.03    CUDA Version: 11.2     |\n",
            "|-------------------------------+----------------------+----------------------+\n",
            "| GPU  Name        Persistence-M| Bus-Id        Disp.A | Volatile Uncorr. ECC |\n",
            "| Fan  Temp  Perf  Pwr:Usage/Cap|         Memory-Usage | GPU-Util  Compute M. |\n",
            "|                               |                      |               MIG M. |\n",
            "|===============================+======================+======================|\n",
            "|   0  Tesla K80           Off  | 00000000:00:04.0 Off |                    0 |\n",
            "| N/A   74C    P0    85W / 149W |   1971MiB / 11441MiB |      0%      Default |\n",
            "|                               |                      |                  N/A |\n",
            "+-------------------------------+----------------------+----------------------+\n",
            "                                                                               \n",
            "+-----------------------------------------------------------------------------+\n",
            "| Processes:                                                                  |\n",
            "|  GPU   GI   CI        PID   Type   Process name                  GPU Memory |\n",
            "|        ID   ID                                                   Usage      |\n",
            "|=============================================================================|\n",
            "|  No running processes found                                                 |\n",
            "+-----------------------------------------------------------------------------+\n"
          ]
        }
      ]
    },
    {
      "cell_type": "code",
      "metadata": {
        "colab": {
          "base_uri": "https://localhost:8080/",
          "height": 607
        },
        "id": "pChA8qtB8GFe",
        "outputId": "74fd205f-728f-4adb-e449-cc715c36d8fa"
      },
      "source": [
        "plt.figure(figsize=(15, 10))\n",
        "plt.subplot(311)\n",
        "plt.plot(list(range(len(losses))), losses)\n",
        "plt.title('loss')\n",
        "\n",
        "plt.subplot(312)\n",
        "plt.plot(list(range(len(mean_accs_train))), mean_accs_train)\n",
        "plt.title('mean acc train')\n",
        "\n",
        "plt.subplot(313)\n",
        "plt.plot(list(range(len(mean_accs_test))), mean_accs_test)\n",
        "plt.title('mean acc test')\n",
        "plt.show()"
      ],
      "execution_count": null,
      "outputs": [
        {
          "output_type": "display_data",
          "data": {
            "image/png": "[encoded data removed]",
            "text/plain": [
              "<Figure size 1080x720 with 3 Axes>"
            ]
          },
          "metadata": {
            "needs_background": "light"
          }
        }
      ]
    },
    {
      "cell_type": "code",
      "metadata": {
        "colab": {
          "base_uri": "https://localhost:8080/"
        },
        "id": "c74_ms0V-qlT",
        "outputId": "62ba9a6a-9d78-416c-cdd1-a05bc43c2463"
      },
      "source": [
        "dpa_net.forward(Trace_train[1:2])"
      ],
      "execution_count": null,
      "outputs": [
        {
          "output_type": "execute_result",
          "data": {
            "text/plain": [
              "tensor([[0.4599, 0.5058, 0.5189, 0.5072, 0.4765, 0.4732, 0.5038, 0.5112, 0.4950,\n",
              "         0.4659, 0.4522, 0.5190, 0.5352, 0.5177, 0.5286, 0.4859, 0.4682, 0.5093,\n",
              "         0.5106, 0.4888, 0.5360, 0.4854, 0.5015, 0.5209, 0.5354, 0.4918, 0.4890,\n",
              "         0.5137, 0.5243, 0.5204, 0.5142, 0.4907, 0.5171, 0.5223, 0.4857, 0.5012,\n",
              "         0.4750, 0.5184, 0.4694, 0.5087, 0.5307, 0.4559, 0.4811, 0.5146, 0.5285,\n",
              "         0.5386, 0.5017, 0.5032, 0.5355, 0.4796, 0.5098, 0.5257, 0.4849, 0.4765,\n",
              "         0.5013, 0.4869, 0.5020, 0.4704, 0.4776, 0.4497, 0.4859, 0.5013, 0.4864,\n",
              "         0.4654, 0.4727, 0.5188, 0.5218, 0.5301, 0.5116, 0.5127, 0.5006, 0.4941,\n",
              "         0.5360, 0.5158, 0.5270, 0.4962, 0.5093, 0.5188, 0.4915, 0.5100, 0.5128,\n",
              "         0.4860, 0.4912, 0.4886, 0.5437, 0.4763, 0.5219, 0.4996, 0.5272, 0.5156,\n",
              "         0.4866, 0.4774, 0.4807, 0.5011, 0.5108, 0.4983, 0.4991, 0.4790, 0.4991,\n",
              "         0.5044, 0.4925, 0.5168, 0.6272, 0.4977, 0.5304, 0.5305, 0.5241, 0.5164,\n",
              "         0.4729, 0.4974, 0.5563, 0.5313, 0.5393, 0.5265, 0.4668, 0.4615, 0.4720,\n",
              "         0.4730, 0.5011, 0.5021, 0.5071, 0.4939, 0.5340, 0.5134, 0.5219, 0.5310,\n",
              "         0.5201, 0.5144]], device='cuda:0', grad_fn=<SigmoidBackward>)"
            ]
          },
          "metadata": {},
          "execution_count": 22
        }
      ]
    },
    {
      "cell_type": "code",
      "metadata": {
        "colab": {
          "base_uri": "https://localhost:8080/"
        },
        "id": "E7TgmNQhJOtw",
        "outputId": "1e4b54db-7fc7-4bd1-e40b-1a24266aec2e"
      },
      "source": [
        "key_test[:][0]"
      ],
      "execution_count": null,
      "outputs": [
        {
          "output_type": "execute_result",
          "data": {
            "text/plain": [
              "tensor([1., 1., 0., 0., 0., 1., 0., 0., 0., 0., 1., 0., 0., 0., 1., 0., 0., 1.,\n",
              "        0., 1., 0., 1., 1., 0., 0., 1., 0., 1., 0., 1., 1., 0., 1., 1., 1., 0.,\n",
              "        1., 0., 1., 1., 0., 0., 0., 0., 1., 0., 1., 0., 0., 0., 0., 1., 1., 0.,\n",
              "        0., 0., 1., 1., 1., 1., 0., 0., 0., 0., 0., 1., 0., 0., 0., 0., 0., 1.,\n",
              "        1., 0., 0., 1., 0., 0., 1., 1., 0., 1., 1., 1., 0., 0., 1., 0., 0., 0.,\n",
              "        0., 1., 1., 1., 1., 0., 0., 1., 0., 0., 0., 0., 0., 1., 1., 0., 1., 0.,\n",
              "        0., 0., 0., 1., 0., 1., 0., 0., 1., 0., 1., 0., 1., 0., 0., 1., 1., 1.,\n",
              "        1., 0.], device='cuda:0')"
            ]
          },
          "metadata": {},
          "execution_count": 83
        }
      ]
    },
    {
      "cell_type": "code",
      "metadata": {
        "id": "yg6N-bVT6ejL"
      },
      "source": [
        "for epoch in range(2000):\n",
        "      optimizer.zero_grad()\n",
        "\n",
        "      preds = dpa_net.forward(Trace_train)\n",
        "\n",
        "      loss_value = loss(preds, key_train)\n",
        "      loss_value.backward()\n",
        "      \n",
        "      optimizer.step()\n",
        "\n",
        "      if epoch % 50 == 0:\n",
        "        test_preds = dpa_net.forward(Trace_test)\n",
        "        output.clear()\n",
        "        print('epoch', epoch)\n",
        "        print('loss', loss_value)\n",
        "        print((test_preds.round() == key_test).float().mean())\n",
        "        !nvidia-smi"
      ],
      "execution_count": null,
      "outputs": []
    },
    {
      "cell_type": "code",
      "metadata": {
        "id": "XlxLHhE2cKaq"
      },
      "source": [
        "torch.cuda.empty_cache()"
      ],
      "execution_count": null,
      "outputs": []
    },
    {
      "cell_type": "code",
      "metadata": {
        "id": "baQ6_p1Cpe5O"
      },
      "source": [
        "!nvidia-smi"
      ],
      "execution_count": null,
      "outputs": []
    }
  ]
}